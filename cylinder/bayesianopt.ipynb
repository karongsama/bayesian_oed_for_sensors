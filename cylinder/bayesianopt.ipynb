{
 "cells": [
  {
   "cell_type": "markdown",
   "metadata": {},
   "source": [
    "import nessary package"
   ]
  },
  {
   "cell_type": "code",
   "execution_count": 2,
   "metadata": {},
   "outputs": [],
   "source": [
    "import numpy as np\n",
    "import deepwave\n",
    "from bayes_opt import BayesianOptimization\n",
    "import matplotlib.pyplot as plt"
   ]
  },
  {
   "cell_type": "markdown",
   "metadata": {},
   "source": [
    "define parameters"
   ]
  },
  {
   "cell_type": "code",
   "execution_count": null,
   "metadata": {},
   "outputs": [],
   "source": [
    "# data para\n",
    "pre_set=[]\n",
    "data_set=[]\n",
    "\n",
    "# cylinder para\n",
    "radius=6\n",
    "height=8\n",
    "\n",
    "# velocity model\n",
    "vel_3d=0.4*np.array([150,150,80])\n"
   ]
  },
  {
   "cell_type": "markdown",
   "metadata": {},
   "source": [
    "define bayesian function"
   ]
  },
  {
   "cell_type": "code",
   "execution_count": null,
   "metadata": {},
   "outputs": [],
   "source": [
    "def GaussianProcess():\n",
    "    "
   ]
  },
  {
   "cell_type": "code",
   "execution_count": null,
   "metadata": {},
   "outputs": [],
   "source": [
    "def acq_fn(x, gp, y_max):\n",
    "    mu, sigma = gp.predict(x, return_std=True)\n",
    "    return mu + 1.96 * sigma"
   ]
  },
  {
   "cell_type": "code",
   "execution_count": null,
   "metadata": {},
   "outputs": [],
   "source": [
    "def loss_fn(x, gp, y_max):\n",
    "    mu, sigma = gp.predict(x, return_std=True)\n",
    "    return y_max - mu"
   ]
  },
  {
   "cell_type": "code",
   "execution_count": null,
   "metadata": {},
   "outputs": [],
   "source": [
    "def real_y(x1,x2):\n",
    "    "
   ]
  },
  {
   "cell_type": "code",
   "execution_count": null,
   "metadata": {},
   "outputs": [],
   "source": [
    "def surface_regulation(x):\n",
    "    if x[0]<=radius and x[2]==0:\n",
    "        return 0\n",
    "    elif x[0]<=radius and x[2]==height:\n",
    "        return 0\n",
    "    elif x[0]==radius and x[2]>=0 and x[2]<=height:\n",
    "        return 0\n",
    "    else:\n",
    "        return -1000000000"
   ]
  },
  {
   "cell_type": "markdown",
   "metadata": {},
   "source": [
    "define cylinder calculator"
   ]
  },
  {
   "cell_type": "code",
   "execution_count": null,
   "metadata": {},
   "outputs": [],
   "source": [
    "def surface_cal(p1,p2):\n",
    "    x1=p1[0]*np.cos(p1[1])\n",
    "    y1=p1[0]*np.sin(p1[1])\n",
    "    z1=p1[2]\n",
    "    x2=p2[0]*np.cos(p2[1])\n",
    "    y2=p2[0]*np.sin(p2[1])\n",
    "    z2=p2[2]\n",
    "    cycx1=radius*np.cos(p1[1])\n",
    "    cycy1=radius*np.sin(p1[1])\n",
    "    cycx2=radius*np.cos(p2[1])\n",
    "    cycy2=radius*np.sin(p2[1])\n",
    "    linelen=np.sqrt((cycx1-cycx2)**2+(cycy1-cycy2)**2)\n",
    "    linemidx=(cycx1+cycx2)/2\n",
    "    linemidy=(cycy1+cycy2)/2\n",
    "    d_o=np.sqrt(radius**2-(linelen/2)**2)\n",
    "    d_o1=np.sqrt(p1[0]**2-d_o**2)\n",
    "    d_o2=np.sqrt(p2[0]**2-d_o**2)\n",
    "    linek=(y2-y1)/(x2-x1)\n",
    "    lineb=y1-linek*x1\n",
    "    vel=np.ones([150,100])*0.03\n",
    "    vel[0-linelen/2+1:0-linelen/2,10,90]=4.4\n",
    "    if lineb>-1 and lineb<1:\n",
    "        rf=np.abs(lineb)\n",
    "        df=np.sqrt(rf**2-d_o**2)\n",
    "        if linemidx>0:\n",
    "            vel[0-int(df*10)-3:0-int(df*10)+3,10,90]=1.2\n",
    "        else:\n",
    "            vel[0+int(df*10)-3:0+int(df*10)+3,10,90]=1.2\n",
    "        \n",
    "    if x1<linemidx:\n",
    "        p1x_2d=1-int(10*d_o1)\n",
    "    else:\n",
    "        p1x_2d=int(10*d_o1)\n",
    "        \n",
    "    if x2<linemidx:\n",
    "        p2x_2d=1-int(10*d_o2)\n",
    "    else:\n",
    "        p2x_2d=int(10*d_o2)\n",
    "        \n",
    "    p1y_2d=int(10*z1)\n",
    "    p2y_2d=int(10*z2)\n",
    "    \n",
    "    #画出新的2d模型并标出两点\n",
    "    plt.imshow(vel,cmap='jet')\n",
    "    plt.scatter(p1x_2d,p1y_2d,c='r',s=100)\n",
    "    plt.scatter(p2x_2d,p2y_2d,c='r',s=100)\n",
    "    plt.show()\n",
    "    \n",
    "    # 下面用deepwave计算波形\n",
    "    "
   ]
  }
 ],
 "metadata": {
  "kernelspec": {
   "display_name": "deepwave",
   "language": "python",
   "name": "python3"
  },
  "language_info": {
   "codemirror_mode": {
    "name": "ipython",
    "version": 3
   },
   "file_extension": ".py",
   "mimetype": "text/x-python",
   "name": "python",
   "nbconvert_exporter": "python",
   "pygments_lexer": "ipython3",
   "version": "3.10.13"
  }
 },
 "nbformat": 4,
 "nbformat_minor": 2
}
